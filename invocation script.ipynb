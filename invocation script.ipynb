{
 "cells": [
  {
   "cell_type": "code",
   "execution_count": 1,
   "id": "6e3d5ff7-dd3f-4438-9404-6b2a24cafa3a",
   "metadata": {},
   "outputs": [
    {
     "name": "stdout",
     "output_type": "stream",
     "text": [
      "✅ Successfully invoked endpoint!\n",
      "Input Data: {'subscribers': [5000000], 'avg_watch_hours': [5.5], 'monthly_fee': [15.99], 'marketing_spend': [250000]}\n",
      "Predicted Revenue: [79935495.3833963]\n"
     ]
    }
   ],
   "source": [
    "import boto3\n",
    "import json\n",
    "import numpy as np\n",
    "\n",
    "# --- CONFIGURATION (MUST MATCH DEPLOYMENT) ---\n",
    "REGION = \"us-east-1\" # Must match the REGION in your deployment script\n",
    "ENDPOINT_NAME = \"netflix-revenue-endpoint-20251025-134503\" # MUST match the unique name from your deployment output\n",
    "\n",
    "# --- SAMPLE DATA (MUST MATCH TRAINING/INFERENCE SCRIPT) ---\n",
    "# Your training script used these features: \n",
    "# [\"subscribers\", \"avg_watch_hours\", \"monthly_fee\", \"marketing_spend\"]\n",
    "sample_data = {\n",
    "    \"subscribers\": [5000000],\n",
    "    \"avg_watch_hours\": [5.5],\n",
    "    \"monthly_fee\": [15.99],\n",
    "    \"marketing_spend\": [250000]\n",
    "}\n",
    "\n",
    "# SageMaker expects a list of records if it's a multi-row input, \n",
    "# or you might need to structure it exactly as your input_fn expects (which was pd.DataFrame(json.loads(request_body)))\n",
    "# For a simple LinearRegression deployment using the standard Scikit-learn container, \n",
    "# often a list of lists or a specific JSON structure works best for input. \n",
    "# Let's format it as a single record matching the expected DataFrame structure when serialized:\n",
    "input_payload = json.dumps(sample_data) \n",
    "\n",
    "# --- INVOCATION ---\n",
    "try:\n",
    "    # 1. Initialize the SageMaker Runtime Client\n",
    "    runtime = boto3.client('sagemaker-runtime', region_name=REGION)\n",
    "    \n",
    "    # 2. Invoke the Endpoint\n",
    "    response = runtime.invoke_endpoint(\n",
    "        EndpointName=ENDPOINT_NAME,\n",
    "        ContentType='application/json',  # Must match what your input_fn expects\n",
    "        Accept='application/json',       # Desired output format\n",
    "        Body=input_payload\n",
    "    )\n",
    "    \n",
    "    # 3. Process the Response\n",
    "    result = response['Body'].read().decode('utf-8')\n",
    "    prediction = json.loads(result)\n",
    "    \n",
    "    print(\"✅ Successfully invoked endpoint!\")\n",
    "    print(f\"Input Data: {sample_data}\")\n",
    "    print(f\"Predicted Revenue: {prediction}\")\n",
    "\n",
    "except Exception as e:\n",
    "    print(f\"❌ Error during invocation: {e}\")\n",
    "    # If you get the UnknownOperationException here, it means the authentication \n",
    "    # for this specific script is wrong, or the endpoint name is misspelled."
   ]
  },
  {
   "cell_type": "code",
   "execution_count": null,
   "id": "a3349fb9-e8d2-4752-8862-eca266f6f3a7",
   "metadata": {},
   "outputs": [],
   "source": []
  }
 ],
 "metadata": {
  "kernelspec": {
   "display_name": "Python 3 (ipykernel)",
   "language": "python",
   "name": "python3"
  },
  "language_info": {
   "codemirror_mode": {
    "name": "ipython",
    "version": 3
   },
   "file_extension": ".py",
   "mimetype": "text/x-python",
   "name": "python",
   "nbconvert_exporter": "python",
   "pygments_lexer": "ipython3",
   "version": "3.12.7"
  }
 },
 "nbformat": 4,
 "nbformat_minor": 5
}
